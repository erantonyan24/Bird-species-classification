{
 "cells": [
  {
   "cell_type": "code",
   "execution_count": 1,
   "id": "7976ef81-a0f1-4546-974e-2dbff8182f23",
   "metadata": {},
   "outputs": [],
   "source": [
    "import pandas as pd\n",
    "import numpy as np\n",
    "import matplotlib.pyplot as plt\n",
    "import seaborn as sns"
   ]
  },
  {
   "cell_type": "code",
   "execution_count": 2,
   "id": "5b786cd0-7eb2-43c9-a7bc-51e779c6bf1b",
   "metadata": {},
   "outputs": [],
   "source": [
    "from tensorflow.keras.preprocessing.image import ImageDataGenerator"
   ]
  },
  {
   "cell_type": "code",
   "execution_count": 3,
   "id": "85a0481a-c58c-4baa-9cf4-387a7345bd5a",
   "metadata": {},
   "outputs": [
    {
     "name": "stdout",
     "output_type": "stream",
     "text": [
      "Found 1601 images belonging to 10 classes.\n"
     ]
    }
   ],
   "source": [
    "train_data = ImageDataGenerator(rescale=1/255)\n",
    "train_images = train_data.flow_from_directory('train' , target_size=(224, 224) , class_mode='sparse')"
   ]
  },
  {
   "cell_type": "code",
   "execution_count": 4,
   "id": "d86a6db6-1e24-455b-8f64-74df33551072",
   "metadata": {},
   "outputs": [
    {
     "name": "stdout",
     "output_type": "stream",
     "text": [
      "Found 50 images belonging to 10 classes.\n"
     ]
    }
   ],
   "source": [
    "test_data = ImageDataGenerator(rescale=1/255)\n",
    "test_images = test_data.flow_from_directory('test' , target_size=(224, 224) , class_mode='sparse')"
   ]
  },
  {
   "cell_type": "code",
   "execution_count": 5,
   "id": "00674bc4-e77c-4840-89f9-2ebeffaaf14a",
   "metadata": {},
   "outputs": [],
   "source": [
    "from keras import Sequential\n",
    "from keras.layers import Dense, Conv2D, MaxPooling2D, Flatten, Dropout, BatchNormalization\n",
    "from keras.optimizers import Adam\n",
    "from keras.regularizers import L1, L2"
   ]
  },
  {
   "cell_type": "code",
   "execution_count": 6,
   "id": "fae2db2d-2fea-4c9c-b09d-9a682a2c127f",
   "metadata": {},
   "outputs": [
    {
     "name": "stderr",
     "output_type": "stream",
     "text": [
      "C:\\Users\\Lenovo\\Desktop\\ML\\venv\\Lib\\site-packages\\keras\\src\\layers\\convolutional\\base_conv.py:113: UserWarning: Do not pass an `input_shape`/`input_dim` argument to a layer. When using Sequential models, prefer using an `Input(shape)` object as the first layer in the model instead.\n",
      "  super().__init__(activity_regularizer=activity_regularizer, **kwargs)\n"
     ]
    }
   ],
   "source": [
    "model = Sequential()\n",
    "\n",
    "model.add(Conv2D(filters=32, kernel_size=(5, 5), activation='relu', input_shape=(224, 224, 3)))\n",
    "model.add(MaxPooling2D(pool_size=(2, 2)))\n",
    "\n",
    "model.add(Conv2D(filters=64, kernel_size=(5, 5), activation='relu'))\n",
    "model.add(MaxPooling2D(pool_size=(2, 2)))\n",
    "\n",
    "model.add(Conv2D(filters=128, kernel_size=(5, 5), activation='relu'))\n",
    "model.add(MaxPooling2D(pool_size=(2, 2)))\n",
    "\n",
    "model.add(Flatten())\n",
    "\n",
    "model.add(Dense(units=2048 , activation='relu'))\n",
    "model.add(Dense(units=1024 , activation='relu'))\n",
    "model.add(Dense(units=512 , activation='relu'))\n",
    "model.add(Dense(units=256 , activation='relu'))\n",
    "model.add(Dense(units=64 , activation='relu'))\n",
    "model.add(Dense(units=10 , activation='softmax'))"
   ]
  },
  {
   "cell_type": "code",
   "execution_count": 7,
   "id": "871fe066-28a7-47d7-acdd-f2e3bc406769",
   "metadata": {},
   "outputs": [],
   "source": [
    "model.compile(optimizer=Adam(learning_rate=0.001) , loss='sparse_categorical_crossentropy', metrics=['accuracy'])"
   ]
  },
  {
   "cell_type": "code",
   "execution_count": 11,
   "id": "6adc7c84-e572-4c0f-92ea-d2c8238aa561",
   "metadata": {},
   "outputs": [
    {
     "name": "stdout",
     "output_type": "stream",
     "text": [
      "\u001b[1m51/51\u001b[0m \u001b[32m━━━━━━━━━━━━━━━━━━━━\u001b[0m\u001b[37m\u001b[0m \u001b[1m123s\u001b[0m 2s/step - accuracy: 0.8296 - loss: 0.4980 - val_accuracy: 0.7000 - val_loss: 1.0126\n"
     ]
    },
    {
     "data": {
      "text/plain": [
       "<keras.src.callbacks.history.History at 0x1d898b8aa90>"
      ]
     },
     "execution_count": 11,
     "metadata": {},
     "output_type": "execute_result"
    }
   ],
   "source": [
    "model.fit(train_images , validation_data=test_images , epochs=1)"
   ]
  },
  {
   "cell_type": "code",
   "execution_count": 110,
   "id": "f60e3869-2578-4610-ab9d-af91eae15cf2",
   "metadata": {},
   "outputs": [],
   "source": [
    "# verjum 1 epoch-a fit arac dra hamary history plot chi berum yndhanur 9 eopch-a"
   ]
  },
  {
   "cell_type": "code",
   "execution_count": 19,
   "id": "fff1c099-9524-4842-a221-c9e20a626caf",
   "metadata": {},
   "outputs": [
    {
     "data": {
      "text/plain": [
       "[<matplotlib.lines.Line2D at 0x1d8b0123bd0>]"
      ]
     },
     "execution_count": 19,
     "metadata": {},
     "output_type": "execute_result"
    },
    {
     "data": {
      "image/png": "[encoded data removed]",
      "text/plain": [
       "<Figure size 640x480 with 1 Axes>"
      ]
     },
     "metadata": {},
     "output_type": "display_data"
    }
   ],
   "source": [
    "plt.plot(model.history.history['loss'])\n",
    "plt.plot(model.history.history['val_loss'])"
   ]
  },
  {
   "cell_type": "code",
   "execution_count": 17,
   "id": "a4e26a9b-d599-49ee-aae5-441f686d9703",
   "metadata": {},
   "outputs": [
    {
     "data": {
      "text/plain": [
       "[<matplotlib.lines.Line2D at 0x1d8a7f1a210>]"
      ]
     },
     "execution_count": 17,
     "metadata": {},
     "output_type": "execute_result"
    },
    {
     "data": {
      "image/png": "[encoded data removed]",
      "text/plain": [
       "<Figure size 640x480 with 1 Axes>"
      ]
     },
     "metadata": {},
     "output_type": "display_data"
    }
   ],
   "source": [
    "plt.plot(model.history.history['accuracy'])\n",
    "plt.plot(model.history.history['val_accuracy'])"
   ]
  },
  {
   "cell_type": "markdown",
   "id": "349e97f5-ad86-45f1-90e2-32ab9fffbcc6",
   "metadata": {},
   "source": [
    "# 5 nkarneri testy"
   ]
  },
  {
   "cell_type": "code",
   "execution_count": 85,
   "id": "8f557fe2-3482-48d9-a0ec-94ffc6e881a7",
   "metadata": {},
   "outputs": [],
   "source": [
    "import matplotlib.image as mpimg\n",
    "import cv2\n",
    "import os"
   ]
  },
  {
   "cell_type": "code",
   "execution_count": 83,
   "id": "ac4f1723-eace-4927-be1c-0999f0152a40",
   "metadata": {},
   "outputs": [],
   "source": [
    "def generator(direction):\n",
    "    dict_ = {0:'ALBERTS TOWHEE',\n",
    " 1:'ALEXANDRINE PARAKEET',\n",
    " 2:'ALPINE CHOUGH',\n",
    " 3:'ALTAMIRA YELLOWTHROAT',\n",
    " 4:'AMERICAN AVOCET',\n",
    " 5:'AMERICAN BITTERN',\n",
    " 6:'AMERICAN COOT',\n",
    " 7:'AMERICAN FLAMINGO',\n",
    " 8:'AMERICAN GOLDFINCH',\n",
    " 9:'AMERICAN KESTREL'}\n",
    "\n",
    "    \n",
    "    img = mpimg.imread(direction)\n",
    "    img = img / 255\n",
    "    img = img.reshape(1, 224, 224, 3)\n",
    "    pred = model.predict(img)\n",
    "    pred = np.argmax(pred)\n",
    "\n",
    "    return dict_[pred]\n",
    "    "
   ]
  },
  {
   "cell_type": "code",
   "execution_count": 181,
   "id": "d8b227fc-a299-423c-8893-bb85a3e06a9d",
   "metadata": {},
   "outputs": [
    {
     "name": "stdout",
     "output_type": "stream",
     "text": [
      "\u001b[1m1/1\u001b[0m \u001b[32m━━━━━━━━━━━━━━━━━━━━\u001b[0m\u001b[37m\u001b[0m \u001b[1m0s\u001b[0m 174ms/step\n"
     ]
    },
    {
     "data": {
      "text/plain": [
       "'AMERICAN GOLDFINCH'"
      ]
     },
     "execution_count": 181,
     "metadata": {},
     "output_type": "execute_result"
    }
   ],
   "source": [
    "direction = 'valid/AMERICAN GOLDFINCH/1.jpg'\n",
    "generator(direction)"
   ]
  },
  {
   "cell_type": "code",
   "execution_count": 101,
   "id": "52e68bc1-10e6-430f-9509-60ee47c26caa",
   "metadata": {},
   "outputs": [
    {
     "name": "stdout",
     "output_type": "stream",
     "text": [
      "\u001b[1m1/1\u001b[0m \u001b[32m━━━━━━━━━━━━━━━━━━━━\u001b[0m\u001b[37m\u001b[0m \u001b[1m0s\u001b[0m 125ms/step\n"
     ]
    },
    {
     "data": {
      "text/plain": [
       "'AMERICAN FLAMINGO'"
      ]
     },
     "execution_count": 101,
     "metadata": {},
     "output_type": "execute_result"
    }
   ],
   "source": [
    "direction = 'valid/AMERICAN FLAMINGO//3.jpg'\n",
    "generator(direction)"
   ]
  },
  {
   "cell_type": "code",
   "execution_count": 100,
   "id": "d1b82a18-a97d-409d-a549-f46e3963d140",
   "metadata": {},
   "outputs": [
    {
     "name": "stdout",
     "output_type": "stream",
     "text": [
      "\u001b[1m1/1\u001b[0m \u001b[32m━━━━━━━━━━━━━━━━━━━━\u001b[0m\u001b[37m\u001b[0m \u001b[1m0s\u001b[0m 127ms/step\n"
     ]
    },
    {
     "data": {
      "text/plain": [
       "'AMERICAN COOT'"
      ]
     },
     "execution_count": 100,
     "metadata": {},
     "output_type": "execute_result"
    }
   ],
   "source": [
    "direction = 'valid/AMERICAN COOT//2.jpg'\n",
    "generator(direction)"
   ]
  },
  {
   "cell_type": "code",
   "execution_count": 99,
   "id": "1d79f363-d37e-4ad5-8b87-45f4f6595e5d",
   "metadata": {},
   "outputs": [
    {
     "name": "stdout",
     "output_type": "stream",
     "text": [
      "\u001b[1m1/1\u001b[0m \u001b[32m━━━━━━━━━━━━━━━━━━━━\u001b[0m\u001b[37m\u001b[0m \u001b[1m0s\u001b[0m 127ms/step\n"
     ]
    },
    {
     "data": {
      "text/plain": [
       "'AMERICAN BITTERN'"
      ]
     },
     "execution_count": 99,
     "metadata": {},
     "output_type": "execute_result"
    }
   ],
   "source": [
    "direction = 'valid/AMERICAN BITTERN//4.jpg'\n",
    "generator(direction)"
   ]
  },
  {
   "cell_type": "code",
   "execution_count": 98,
   "id": "a9819df6-2ad2-4c6b-a9f7-24165a751ede",
   "metadata": {},
   "outputs": [
    {
     "name": "stdout",
     "output_type": "stream",
     "text": [
      "\u001b[1m1/1\u001b[0m \u001b[32m━━━━━━━━━━━━━━━━━━━━\u001b[0m\u001b[37m\u001b[0m \u001b[1m0s\u001b[0m 121ms/step\n"
     ]
    },
    {
     "data": {
      "text/plain": [
       "'ALTAMIRA YELLOWTHROAT'"
      ]
     },
     "execution_count": 98,
     "metadata": {},
     "output_type": "execute_result"
    }
   ],
   "source": [
    "direction = 'valid/ALTAMIRA YELLOWTHROAT//3.jpg'\n",
    "generator(direction)"
   ]
  },
  {
   "cell_type": "markdown",
   "id": "17011e23-5424-4255-862c-6b2ef693f42d",
   "metadata": {},
   "source": [
    "# ------------------------------------------------------"
   ]
  },
  {
   "cell_type": "code",
   "execution_count": 140,
   "id": "4e4ecf81-1dd1-4731-871e-e98de2329fe4",
   "metadata": {},
   "outputs": [
    {
     "name": "stdout",
     "output_type": "stream",
     "text": [
      "Found 50 images belonging to 10 classes.\n"
     ]
    }
   ],
   "source": [
    "valid_data = ImageDataGenerator(rescale=1/255)\n",
    "valid_images = valid_data.flow_from_directory('valid' , target_size=(224, 224) , class_mode='sparse', shuffle=False)"
   ]
  },
  {
   "cell_type": "code",
   "execution_count": 141,
   "id": "c22b62ff-2274-4d9a-b863-f7768b817554",
   "metadata": {},
   "outputs": [
    {
     "name": "stderr",
     "output_type": "stream",
     "text": [
      "C:\\Users\\Lenovo\\Desktop\\ML\\venv\\Lib\\site-packages\\keras\\src\\trainers\\data_adapters\\py_dataset_adapter.py:121: UserWarning: Your `PyDataset` class should call `super().__init__(**kwargs)` in its constructor. `**kwargs` can include `workers`, `use_multiprocessing`, `max_queue_size`. Do not pass these arguments to `fit()`, as they will be ignored.\n",
      "  self._warn_if_super_not_called()\n"
     ]
    },
    {
     "name": "stdout",
     "output_type": "stream",
     "text": [
      "\u001b[1m2/2\u001b[0m \u001b[32m━━━━━━━━━━━━━━━━━━━━\u001b[0m\u001b[37m\u001b[0m \u001b[1m1s\u001b[0m 323ms/step\n"
     ]
    }
   ],
   "source": [
    "pred = model.predict(valid_images)"
   ]
  },
  {
   "cell_type": "code",
   "execution_count": 142,
   "id": "71de2af7-a753-45b5-801b-b768e99c30c5",
   "metadata": {},
   "outputs": [],
   "source": [
    "pred = [np.argmax(i) for i in pred]"
   ]
  },
  {
   "cell_type": "code",
   "execution_count": 149,
   "id": "27bf6d57-bb6b-4666-a994-bf62e2434d37",
   "metadata": {},
   "outputs": [],
   "source": [
    "valid = valid_images.classes"
   ]
  },
  {
   "cell_type": "code",
   "execution_count": 168,
   "id": "0bec0c45-233e-4707-9f84-c66502df0a40",
   "metadata": {},
   "outputs": [],
   "source": [
    "from sklearn.metrics import confusion_matrix , ConfusionMatrixDisplay, accuracy_score"
   ]
  },
  {
   "cell_type": "code",
   "execution_count": 157,
   "id": "8f95fdda-8869-4524-8905-319adc0fb570",
   "metadata": {},
   "outputs": [],
   "source": [
    "cm = confusion_matrix(pred, valid)"
   ]
  },
  {
   "cell_type": "code",
   "execution_count": 160,
   "id": "51b821e5-0ea9-45f1-9e91-b9df831bddfd",
   "metadata": {},
   "outputs": [
    {
     "data": {
      "text/plain": [
       "<sklearn.metrics._plot.confusion_matrix.ConfusionMatrixDisplay at 0x1d8a6c82a90>"
      ]
     },
     "execution_count": 160,
     "metadata": {},
     "output_type": "execute_result"
    },
    {
     "data": {
      "image/png": "[encoded data removed]",
      "text/plain": [
       "<Figure size 640x480 with 2 Axes>"
      ]
     },
     "metadata": {},
     "output_type": "display_data"
    }
   ],
   "source": [
    "ConfusionMatrixDisplay(cm).plot()\n"
   ]
  },
  {
   "cell_type": "code",
   "execution_count": 172,
   "id": "a2d69093-f208-4650-88df-4a699a3d26f6",
   "metadata": {},
   "outputs": [
    {
     "data": {
      "text/plain": [
       "0.7"
      ]
     },
     "execution_count": 172,
     "metadata": {},
     "output_type": "execute_result"
    }
   ],
   "source": [
    "accuracy_score(valid, pred)"
   ]
  },
  {
   "cell_type": "code",
   "execution_count": 182,
   "id": "ce6cc648-cf05-41ac-9d67-57d30b2c0e53",
   "metadata": {},
   "outputs": [],
   "source": [
    "from sklearn.metrics import classification_report"
   ]
  },
  {
   "cell_type": "code",
   "execution_count": 184,
   "id": "965a223c-b57f-4612-880f-615c6fed5d6c",
   "metadata": {},
   "outputs": [],
   "source": [
    "clas = classification_report(pred, valid)"
   ]
  },
  {
   "cell_type": "code",
   "execution_count": 185,
   "id": "2c3eb095-f0c5-4080-a126-a4ce0c64cd04",
   "metadata": {},
   "outputs": [
    {
     "name": "stdout",
     "output_type": "stream",
     "text": [
      "              precision    recall  f1-score   support\n",
      "\n",
      "           0       0.00      0.00      0.00         1\n",
      "           1       0.80      0.80      0.80         5\n",
      "           2       0.80      1.00      0.89         4\n",
      "           3       1.00      0.62      0.77         8\n",
      "           4       0.80      1.00      0.89         4\n",
      "           5       0.80      0.67      0.73         6\n",
      "           6       0.80      0.67      0.73         6\n",
      "           7       1.00      0.83      0.91         6\n",
      "           8       0.60      0.60      0.60         5\n",
      "           9       0.40      0.40      0.40         5\n",
      "\n",
      "    accuracy                           0.70        50\n",
      "   macro avg       0.70      0.66      0.67        50\n",
      "weighted avg       0.78      0.70      0.73        50\n",
      "\n"
     ]
    }
   ],
   "source": [
    "print(clas)"
   ]
  },
  {
   "cell_type": "code",
   "execution_count": null,
   "id": "acd7be3e-2b32-4a54-b3fa-500c40d785db",
   "metadata": {},
   "outputs": [],
   "source": []
  }
 ],
 "metadata": {
  "kernelspec": {
   "display_name": "Python 3 (ipykernel)",
   "language": "python",
   "name": "python3"
  },
  "language_info": {
   "codemirror_mode": {
    "name": "ipython",
    "version": 3
   },
   "file_extension": ".py",
   "mimetype": "text/x-python",
   "name": "python",
   "nbconvert_exporter": "python",
   "pygments_lexer": "ipython3",
   "version": "3.11.4"
  }
 },
 "nbformat": 4,
 "nbformat_minor": 5
}
